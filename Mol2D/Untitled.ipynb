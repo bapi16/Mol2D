{
 "cells": [
  {
   "cell_type": "code",
   "execution_count": null,
   "id": "026aedd8-0ef7-4433-934d-e159f2421818",
   "metadata": {},
   "outputs": [
    {
     "name": "stdout",
     "output_type": "stream",
     "text": [
      "\n",
      "  __  __       _      _      ___   ___ \n",
      " |  \\/  |     | |    | |    |__ \\ / _ \\\n",
      " | \\  / | ___ | | __ | | ___   ) | | | |\n",
      " | |\\/| |/ _ \\| |/ / | |/ _ \\ / /| | | |\n",
      " | |  | | (_) |   <  | |  __// /_| |_| |\n",
      " |_|  |_|\\___/|_|\\_\\ |_|\\___|____|\\___/\n",
      "\n",
      "Mol_2D: A 2D Molecular Quantum Chemistry Package\n",
      "\n",
      "\n",
      "=== Integral Computation ===\n",
      "Number of basis functions: 72\n",
      "Number of electrons: 2\n",
      "Nuclear repulsion energy: 10.00000000 Hartree\n"
     ]
    }
   ],
   "source": [
    "# calc.py\n",
    "from Qchem_2D import Molecule\n",
    "\n",
    "geom = '''\n",
    "\n",
    "H 0.0 0.0\n",
    "H 0.0 0.1\n",
    " \n",
    "units bohr\n",
    "'''\n",
    "\n",
    "mol = Molecule(geom, \"H: 36s\", charge=0, mult=1)\n",
    "\n",
    "#print(mol.T())\n",
    "\n",
    "#exit()\n",
    "\n",
    "\n",
    "result = mol.scf(method='rhf',verbose=1)\n",
    "\n",
    "\n",
    "\n",
    "\n",
    "print(f\"- Total time: {result['time_total']:.2f}s\")"
   ]
  },
  {
   "cell_type": "code",
   "execution_count": 1,
   "id": "4b00ece7-1ccc-4642-804a-490f60ecf0db",
   "metadata": {},
   "outputs": [
    {
     "name": "stdout",
     "output_type": "stream",
     "text": [
      "\n",
      "  __  __       _      _      ___   ___ \n",
      " |  \\/  |     | |    | |    |__ \\ / _ \\\n",
      " | \\  / | ___ | | __ | | ___   ) | | | |\n",
      " | |\\/| |/ _ \\| |/ / | |/ _ \\ / /| | | |\n",
      " | |  | | (_) |   <  | |  __// /_| |_| |\n",
      " |_|  |_|\\___/|_|\\_\\ |_|\\___|____|\\___/\n",
      "\n",
      "Mol_2D: A 2D Molecular Quantum Chemistry Package\n",
      "\n",
      "\n",
      "=== Integral Computation ===\n",
      "Number of basis functions: 36\n",
      "Number of electrons: 3\n",
      "Nuclear repulsion energy: 0.00000000 Hartree\n",
      "\n",
      "Integral computation times:\n",
      "- STV integrals: 0.14s\n",
      "- G integrals: 7.06s\n",
      "Unrestricted calculation with:\n",
      "- Alpha electrons: 2\n",
      "- Beta electrons: 1\n",
      "\n",
      "=== UHF SCF Iterations ===\n",
      "Iter   Energy (Hartree)   ΔDα        ΔDβ        Time\n",
      "  0         0.00000000  3.63e-01  8.22e-02  0.00s\n",
      "  1       -28.71108098  3.53e-01  2.28e-02  0.00s\n",
      "  2       -29.63654073  7.93e-02  2.41e-03  0.00s\n",
      "  3       -29.66475812  5.15e-02  1.84e-04  0.00s\n",
      "  4       -29.66782098  2.47e-02  7.05e-05  0.00s\n",
      "  5       -29.66829250  1.02e-02  2.47e-05  0.00s\n",
      "  6       -29.66837716  5.34e-03  9.49e-06  0.00s\n",
      "  7       -29.66839347  2.54e-03  3.85e-06  0.00s\n",
      "  8       -29.66839673  1.16e-03  1.61e-06  0.00s\n",
      "  9       -29.66839738  5.19e-04  6.93e-07  0.00s\n",
      " 10       -29.66839752  2.32e-04  3.03e-07  0.00s\n",
      " 11       -29.66839755  1.04e-04  1.34e-07  0.00s\n",
      " 12       -29.66839755  4.65e-05  5.94e-08  0.00s\n",
      " 13       -29.66839755  2.09e-05  2.66e-08  0.00s\n",
      " 14       -29.66839755  9.39e-06  1.21e-08  0.00s\n",
      " 15       -29.66839755  4.24e-06  5.14e-09  0.00s\n",
      " 16       -29.66839755  1.92e-06  2.72e-09  0.00s\n",
      " 17       -29.66839755  8.75e-07  1.63e-09  0.00s\n",
      "\n",
      "Final nuclear repulsion: 0.00000000 Hartree\n",
      "Total energy breakdown:\n",
      "- Electronic: -29.66839755\n",
      "- Nuclear:    0.00000000\n",
      "- Total:      -29.66839755\n",
      "- Total_Time:7.27s\n",
      "- Total time: 7.27s\n"
     ]
    }
   ],
   "source": [
    "# calc.py\n",
    "from Qchem_2D import Molecule\n",
    "\n",
    "geom = '''\n",
    "\n",
    "Li 0.0 0.0\n",
    "\n",
    " \n",
    "units bohr\n",
    "'''\n",
    "\n",
    "mol = Molecule(geom, \"Li: 36s\", charge=0, mult=2)\n",
    "\n",
    "#print(mol.T())\n",
    "\n",
    "#exit()\n",
    "\n",
    "\n",
    "result = mol.scf(method='uhf',verbose=1)\n",
    "\n",
    "\n",
    "\n",
    "\n",
    "print(f\"- Total time: {result['time_total']:.2f}s\")"
   ]
  },
  {
   "cell_type": "code",
   "execution_count": null,
   "id": "f4a52b1b-f995-4edc-89d6-41473133a503",
   "metadata": {},
   "outputs": [],
   "source": []
  }
 ],
 "metadata": {
  "kernelspec": {
   "display_name": "Python 3 (ipykernel)",
   "language": "python",
   "name": "python3"
  },
  "language_info": {
   "codemirror_mode": {
    "name": "ipython",
    "version": 3
   },
   "file_extension": ".py",
   "mimetype": "text/x-python",
   "name": "python",
   "nbconvert_exporter": "python",
   "pygments_lexer": "ipython3",
   "version": "3.8.10"
  }
 },
 "nbformat": 4,
 "nbformat_minor": 5
}
